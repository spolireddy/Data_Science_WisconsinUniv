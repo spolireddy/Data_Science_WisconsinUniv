{
 "cells": [
  {
   "cell_type": "markdown",
   "metadata": {},
   "source": [
    "#Problem 1(a).  Unionized workers.\n",
    "\n",
    "These problems use the 1985 Current Population Survey data, ```cps.csv```, from last week.\n",
    "\n",
    "Create a pandas data frame to hold the CPS data.  Write a function that computes the average hourly wage of a unionized worker by using control flow to iterate through each row of the data frame."
   ]
  },
  {
   "cell_type": "code",
   "execution_count": null,
   "metadata": {
    "collapsed": true
   },
   "outputs": [],
   "source": []
  },
  {
   "cell_type": "markdown",
   "metadata": {},
   "source": [
    "#Problem 1(b).  More unionized workers.\n",
    "\n",
    "Write a function that takes a row of a data frame as input.  Your function should return 0 if a worker is not unionized, and the worker's hourly wage if the worker is unionized.  Apply this function to your data frame, then use the resulting series to compute the average hourly wage of a unionized worker."
   ]
  },
  {
   "cell_type": "code",
   "execution_count": null,
   "metadata": {
    "collapsed": true
   },
   "outputs": [],
   "source": []
  },
  {
   "cell_type": "markdown",
   "metadata": {},
   "source": [
    "# Problem 1(c).  Selecting and analyzing unionized workers.\n",
    "\n",
    "Write code that selects the unionized workers, then computes the average hourly wage of the resulting subset."
   ]
  },
  {
   "cell_type": "code",
   "execution_count": null,
   "metadata": {
    "collapsed": true
   },
   "outputs": [],
   "source": []
  },
  {
   "cell_type": "markdown",
   "metadata": {},
   "source": [
    "#Problem 1(d).  Timing.\n",
    "\n",
    "Use the ```%time``` or ```%timeit``` magic commands to compare your code from 1(a), 1(b), and 1(c).  Create a markdown cell which explains which summarizes the results of your comparison.  Can you explain what makes the fastest code fastest?"
   ]
  },
  {
   "cell_type": "code",
   "execution_count": null,
   "metadata": {
    "collapsed": true
   },
   "outputs": [],
   "source": []
  }
 ],
 "metadata": {
  "kernelspec": {
   "display_name": "Python 3",
   "language": "python",
   "name": "python3"
  },
  "language_info": {
   "codemirror_mode": {
    "name": "ipython",
    "version": 3
   },
   "file_extension": ".py",
   "mimetype": "text/x-python",
   "name": "python",
   "nbconvert_exporter": "python",
   "pygments_lexer": "ipython3",
   "version": "3.4.3"
  }
 },
 "nbformat": 4,
 "nbformat_minor": 0
}
