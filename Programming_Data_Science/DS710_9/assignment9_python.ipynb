{
 "cells": [
  {
   "cell_type": "markdown",
   "metadata": {},
   "source": [
    "# Problem 1(a).  College data.\n",
    "\n",
    "The data set usnews.csv contains data from the 1995 US News and World Report on colleges and universities in the US.  \n",
    "\n",
    "(Dataset:  “US News College data,” submitted by Robin Lock, St. Lawrence University.   Dataset obtained from the Journal of Statistics Education (http://www.amstat.org/publications/jse). Accessed 23 June 2015. Used by permission of author.)\n",
    "\n",
    "Metadata:  http://www.amstat.org/publications/jse/datasets/usnews.txt\n",
    "\n",
    "\n",
    "The data set contains asterisks which indicate missing data.  Use pandas to create a data frame which replaces the asterisks by the ```NaN``` symbol.  "
   ]
  },
  {
   "cell_type": "code",
   "execution_count": null,
   "metadata": {
    "collapsed": true
   },
   "outputs": [],
   "source": []
  },
  {
   "cell_type": "markdown",
   "metadata": {
    "collapsed": true
   },
   "source": [
    "#Problem 1(b).  Categorizing universities.\n",
    "\n",
    "Create a new column in your data frame which describes whether a university is public or private, using the words \"Public\" and \"Private\" instead of numbers.  (It may be helpful to consult the metadata file.)\n"
   ]
  },
  {
   "cell_type": "code",
   "execution_count": null,
   "metadata": {
    "collapsed": true
   },
   "outputs": [],
   "source": []
  },
  {
   "cell_type": "markdown",
   "metadata": {},
   "source": [
    "#Problem 1(c).  \n",
    "\n",
    "The interquartile range is the 3rd quartile minus the 1st quartile.  Create columns recording the interquartile range for math and verbal SAT scores."
   ]
  },
  {
   "cell_type": "code",
   "execution_count": null,
   "metadata": {
    "collapsed": true
   },
   "outputs": [],
   "source": []
  },
  {
   "cell_type": "markdown",
   "metadata": {},
   "source": [
    "# Problem 1(d).  Saving for R.\n",
    "\n",
    "Save your data frame as a .csv file for further analysis in R.  You should replace the ```NaN``` symbol with an empty string before saving.  Your output should not include a column of row numbers."
   ]
  },
  {
   "cell_type": "code",
   "execution_count": null,
   "metadata": {
    "collapsed": true
   },
   "outputs": [],
   "source": []
  }
 ],
 "metadata": {
  "kernelspec": {
   "display_name": "Python 3",
   "language": "python",
   "name": "python3"
  },
  "language_info": {
   "codemirror_mode": {
    "name": "ipython",
    "version": 3
   },
   "file_extension": ".py",
   "mimetype": "text/x-python",
   "name": "python",
   "nbconvert_exporter": "python",
   "pygments_lexer": "ipython3",
   "version": "3.4.3"
  }
 },
 "nbformat": 4,
 "nbformat_minor": 0
}
