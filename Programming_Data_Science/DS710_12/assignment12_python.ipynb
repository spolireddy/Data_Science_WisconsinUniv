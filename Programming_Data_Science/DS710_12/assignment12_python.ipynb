{
 "cells": [
  {
   "cell_type": "markdown",
   "metadata": {},
   "source": [
    "#Problem 1(a).  A collectible card class.\n",
    "\n",
    "You are tasked with organizing information about a Magic: The Gathering card collection.  You are particularly interested in which cards are most rare, and therefore most valuable.\n",
    "\n",
    "The MTG JSON website (http://mtgjson.com/) has information about different sets of Magic: The Gathering cards in JSON format.  Using the [Example Card](http://mtgjson.com/#exampleCard) information, create a MagicCard class to store relevant information about Magic cards in Python.\n",
    "\n",
    "Consider:\n",
    "\n",
    "* How should someone initialize an instance of your class?\n",
    "* What functions should your class have?"
   ]
  },
  {
   "cell_type": "code",
   "execution_count": null,
   "metadata": {
    "collapsed": true
   },
   "outputs": [],
   "source": []
  },
  {
   "cell_type": "markdown",
   "metadata": {},
   "source": [
    "#Problem 1(b). Class for a set of Magic cards.\n",
    "\n",
    "Download the data for the Dragons of Tarkir set from the [Individual Sets](http://mtgjson.com/#individualSets) section of the MTG JSON page.  Create a MagicCardSet class to store relevant information about a set of Magic cards, and create an instance of the class which contains all of the information about the Dragons of Tarkir set."
   ]
  },
  {
   "cell_type": "code",
   "execution_count": null,
   "metadata": {
    "collapsed": true
   },
   "outputs": [],
   "source": []
  },
  {
   "cell_type": "markdown",
   "metadata": {},
   "source": [
    "#Problem 1(c).  Dragons of Tarkir.\n",
    "\n",
    "What are the rarest cards in the Dragons of Tarkir set?  What colors are they associated with?\n",
    "\n",
    "Write Python code to answer this question, then create a markdown cell which explains your method and conclusions."
   ]
  },
  {
   "cell_type": "code",
   "execution_count": null,
   "metadata": {
    "collapsed": true
   },
   "outputs": [],
   "source": []
  }
 ],
 "metadata": {
  "kernelspec": {
   "display_name": "Python 3",
   "language": "python",
   "name": "python3"
  },
  "language_info": {
   "codemirror_mode": {
    "name": "ipython",
    "version": 3
   },
   "file_extension": ".py",
   "mimetype": "text/x-python",
   "name": "python",
   "nbconvert_exporter": "python",
   "pygments_lexer": "ipython3",
   "version": "3.4.3"
  }
 },
 "nbformat": 4,
 "nbformat_minor": 0
}
