{
 "cells": [
  {
   "cell_type": "markdown",
   "metadata": {},
   "source": [
    "#Problem 1(a).  Word length.\n",
    "\n",
    "Write a function called ```word_length_list()``` which takes a string and returns a list with the length of each word in the string.  Your function should ignore punctuation.  For example, ```word_length_list(\"The panda eats, shoots, and leaves!\")``` should return ```[3,5,4,6,3,6]```.  \n",
    "\n",
    "Call or create other functions as necessary to organize your work."
   ]
  },
  {
   "cell_type": "code",
   "execution_count": null,
   "metadata": {
    "collapsed": true
   },
   "outputs": [],
   "source": []
  },
  {
   "cell_type": "markdown",
   "metadata": {},
   "source": [
    "#Problem 1(b).  \"A Mourner.\"\n",
    "\n",
    "The text below is an anonymous essay published in The Boston Gazette and Country Journal on January 8, 1770. \n",
    "\n",
    ">The general Sympathy and Concern for the Murder of the Lad by the base and infamous Richardson on the 22d Instant, will be sufficient Reason for your Notifying the Public that he will be buried from his Father’s House in Frogg Lane, opposite Liberty-Tree, on Monday next, when all the Friends of Liberty may have an Opportunity of paying their last Respects to the Remains of this little Hero and first Martyr to the noble Cause--Whose manly Spirit (after this Accident happened) appear’d in his discreet Answers to his Doctor, his Thanks to the Clergymen who prayed with him, and Parents, and while he underwent the greatest Distress of bodily Pain; and with which he met the King of Terrors.  These Things, together with the several heroic Pieces found in his Pocket, particularly Wolfe’s Summit of human Glory, gives Reason to think he had a martial Genius, and would have made a clever Man.\n",
    "\t\t\t\t\t\n",
    "> A Mourner.\n",
    "\n",
    "(Source:  Michael Sullivan, _Statistics:  Informed Decisions Using Data_, 4th ed.  p. 188-189.)\n",
    "\n",
    "Find the length of each word in \"A Mourner\"."
   ]
  },
  {
   "cell_type": "code",
   "execution_count": null,
   "metadata": {
    "collapsed": true
   },
   "outputs": [],
   "source": []
  },
  {
   "cell_type": "markdown",
   "metadata": {},
   "source": [
    "#Problem 1(c). _Pride and Prejudice_.\n",
    "\n",
    "Use Python to count the number of words and mean length of words in each sentence of Pride and Prejudice (https://www.gutenberg.org/cache/epub/1342/pg1342.txt).  Save your result as a ```.csv``` file.\n",
    "\n",
    "* Create new functions as necessary to organize your work.\n",
    "* Include comments to explain the purpose and arguments of each function you create."
   ]
  },
  {
   "cell_type": "code",
   "execution_count": null,
   "metadata": {
    "collapsed": true
   },
   "outputs": [],
   "source": []
  },
  {
   "cell_type": "markdown",
   "metadata": {},
   "source": [
    "#Problem 2.  Counting the Letter _e_.\n",
    "\n",
    "Write Python code to determine the frequency of the letter _e_ in _Pride and Prejudice_ (https://www.gutenberg.org/cache/epub/1342/pg1342.txt) and _L'Enlèvement de la redoute_ (pp. 1-7 in https://www.gutenberg.org/cache/epub/12949/pg12949.txt).\n",
    "\n",
    "* Your code should include a function called ```count_letter_e()``` which takes a string representing a filename, such as ```pg1342.txt```, as input, and returns the number of _e_'s as output.  Your function should include two optional arguments, ```ignore_accents``` and ```ignore_case```.  When ```ignore_accents = True```, your function should count accented characters such as _é_, _ê_, and _è_ as _e_.  When ```ignore_case=True```, your function should treat uppercase and lowercase _e_ as the same letter.\n",
    "* Your code should also include a function called ```count_letters()``` which takes a string representing a filename and returns the number of letters in the file.  This function should not count spaces or punctuation.\n",
    "* Create other functions as necessary to organize your work.\n",
    "* Include comments which explain the purpose and arguments of each function you create."
   ]
  },
  {
   "cell_type": "code",
   "execution_count": null,
   "metadata": {
    "collapsed": true
   },
   "outputs": [],
   "source": []
  }
 ],
 "metadata": {
  "kernelspec": {
   "display_name": "Python 3",
   "language": "python",
   "name": "python3"
  },
  "language_info": {
   "codemirror_mode": {
    "name": "ipython",
    "version": 3
   },
   "file_extension": ".py",
   "mimetype": "text/x-python",
   "name": "python",
   "nbconvert_exporter": "python",
   "pygments_lexer": "ipython3",
   "version": "3.4.3"
  }
 },
 "nbformat": 4,
 "nbformat_minor": 0
}
